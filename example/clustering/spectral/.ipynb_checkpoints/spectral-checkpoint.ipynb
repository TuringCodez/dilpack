{
 "cells": [
  {
   "cell_type": "code",
   "execution_count": 1,
   "id": "610d5093",
   "metadata": {},
   "outputs": [
    {
     "ename": "ModuleNotFoundError",
     "evalue": "No module named 'dilpack'",
     "output_type": "error",
     "traceback": [
      "\u001b[1;31m---------------------------------------------------------------------------\u001b[0m",
      "\u001b[1;31mModuleNotFoundError\u001b[0m                       Traceback (most recent call last)",
      "\u001b[1;32m~\\AppData\\Local\\Temp/ipykernel_4480/3243699741.py\u001b[0m in \u001b[0;36m<module>\u001b[1;34m\u001b[0m\n\u001b[0;32m      4\u001b[0m \u001b[1;31m#from spectral import SpectralClustering\u001b[0m\u001b[1;33m\u001b[0m\u001b[1;33m\u001b[0m\u001b[0m\n\u001b[0;32m      5\u001b[0m \u001b[1;33m\u001b[0m\u001b[0m\n\u001b[1;32m----> 6\u001b[1;33m \u001b[1;32mfrom\u001b[0m \u001b[0mdilpack\u001b[0m\u001b[1;33m.\u001b[0m\u001b[0mclustering\u001b[0m\u001b[1;33m.\u001b[0m\u001b[0mspectral\u001b[0m \u001b[1;32mimport\u001b[0m \u001b[0mSpectralClustering\u001b[0m\u001b[1;33m\u001b[0m\u001b[1;33m\u001b[0m\u001b[0m\n\u001b[0m",
      "\u001b[1;31mModuleNotFoundError\u001b[0m: No module named 'dilpack'"
     ]
    }
   ],
   "source": [
    "import numpy as np\n",
    "import matplotlib.pyplot as plt\n",
    "\n",
    "#from spectral import SpectralClustering\n",
    "\n",
    "from dilpack.clustering.spectral import SpectralClustering"
   ]
  },
  {
   "cell_type": "code",
   "execution_count": null,
   "id": "621e0d7a",
   "metadata": {},
   "outputs": [],
   "source": [
    "# Plotting function\n",
    "def visualize_clusters(X, y, title):\n",
    "    fig, ax = plt.subplots(figsize=(9,7))\n",
    "    ax.set_title(title, fontsize=18)\n",
    "    ax.scatter(X[:, 0], X[:, 1],c=y,s=50, cmap=\"viridis\")"
   ]
  },
  {
   "cell_type": "code",
   "execution_count": null,
   "id": "194571ec",
   "metadata": {},
   "outputs": [],
   "source": [
    "# Load training set A\n",
    "X_a = np.load(\"spectral_train_set_a.npy\")\n",
    "\n",
    "# Perform spectral clustering with K=2 (moon-shaped clusters)\n",
    "pred_a = SpectralClustering(X_a, 2).fit(X_a)\n",
    "\n",
    "# Plot clusters and labels\n",
    "visualize_clusters(X_a, pred_a, \"Spectral Clustering with Complex Cluster Shape\")"
   ]
  },
  {
   "cell_type": "code",
   "execution_count": null,
   "id": "0bcbb64b",
   "metadata": {},
   "outputs": [],
   "source": [
    "# Load training set B\n",
    "X_b = np.load(\"spectral_train_set_b.npy\")\n",
    "\n",
    "# Perform spectral clustering with K=3\n",
    "pred_b = SpectralClustering(X_b, 3).fit(X_b)\n",
    "\n",
    "# Plot clusters and labels\n",
    "visualize_clusters(X_b, pred_b, \"Spectral Clustering with Three Clusters\")"
   ]
  }
 ],
 "metadata": {
  "kernelspec": {
   "display_name": "Python 3 (ipykernel)",
   "language": "python",
   "name": "python3"
  },
  "language_info": {
   "codemirror_mode": {
    "name": "ipython",
    "version": 3
   },
   "file_extension": ".py",
   "mimetype": "text/x-python",
   "name": "python",
   "nbconvert_exporter": "python",
   "pygments_lexer": "ipython3",
   "version": "3.9.7"
  }
 },
 "nbformat": 4,
 "nbformat_minor": 5
}
