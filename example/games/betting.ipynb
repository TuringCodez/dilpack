{
 "cells": [
  {
   "cell_type": "code",
   "execution_count": 1,
   "id": "873eb4db",
   "metadata": {},
   "outputs": [],
   "source": [
    "import numpy as np\n",
    "\n",
    "from dilpack.games.games import RockPaperScissors, BasketballOffense, NBASportsBetting"
   ]
  },
  {
   "attachments": {},
   "cell_type": "markdown",
   "id": "eda7000b",
   "metadata": {},
   "source": [
    "This notebook aims to explore how linear algebra and game theory may be applied in the context of sports betting. We first set up the context by introducing simple 2-party games and their payoffs before we finally formulate a sports betting game."
   ]
  },
  {
   "cell_type": "markdown",
   "id": "518becb6",
   "metadata": {},
   "source": [
    "## Game 1: Rock Paper Scissors"
   ]
  },
  {
   "cell_type": "markdown",
   "id": "e7eeae43",
   "metadata": {},
   "source": [
    "The first game is the classic game of Rock Paper Scissors. For the unaware, the rules for this game are simple:\n",
    "- rock beats scissors\n",
    "- scissors beats paper\n",
    "- paper beats rock\n",
    "\n",
    "Both players choose either of the three and see if their choice beats the other. The winner gets a point (+1), and the loser gets negative of that (-1). For a tie game, a score of zero (0) is given. "
   ]
  },
  {
   "cell_type": "markdown",
   "id": "5b3110ed",
   "metadata": {},
   "source": [
    "1) What is this payoff matrix for this game? "
   ]
  },
  {
   "cell_type": "code",
   "execution_count": 2,
   "id": "b76cd748",
   "metadata": {},
   "outputs": [
    {
     "data": {
      "text/plain": [
       "array([[ 0, -1,  1],\n",
       "       [ 1,  0, -1],\n",
       "       [-1,  1,  0]])"
      ]
     },
     "execution_count": 2,
     "metadata": {},
     "output_type": "execute_result"
    }
   ],
   "source": [
    "RockPaperScissors().payoff_matrix"
   ]
  },
  {
   "cell_type": "markdown",
   "id": "92c2b8b3",
   "metadata": {},
   "source": [
    "2) What is the expected payoff for this game, assuming that both players are equally likely to choose any of the three?"
   ]
  },
  {
   "cell_type": "code",
   "execution_count": 3,
   "id": "f863b88a",
   "metadata": {},
   "outputs": [
    {
     "data": {
      "text/plain": [
       "0.0"
      ]
     },
     "execution_count": 3,
     "metadata": {},
     "output_type": "execute_result"
    }
   ],
   "source": [
    "RockPaperScissors().calculate_expected_payoff()"
   ]
  },
  {
   "cell_type": "markdown",
   "id": "2d1897a2",
   "metadata": {},
   "source": [
    "3) Suppose player A has a tendency to play rock 70% of the time, 20% for paper, and 10% for scissors. Moreover, player B has a tendency to play rock 30% of the time, 10% for paper, and 60% for scissors. Which player has the more advantageous strategy?"
   ]
  },
  {
   "cell_type": "code",
   "execution_count": 4,
   "id": "9191690e",
   "metadata": {},
   "outputs": [
    {
     "data": {
      "text/plain": [
       "0.26999999999999996"
      ]
     },
     "execution_count": 4,
     "metadata": {},
     "output_type": "execute_result"
    }
   ],
   "source": [
    "RockPaperScissors([0.7, 0.2, 0.1], [0.3, 0.1, 0.6]).calculate_expected_payoff()"
   ]
  },
  {
   "cell_type": "markdown",
   "id": "f2be8c50",
   "metadata": {},
   "source": [
    "## Game 2: NBA Offense"
   ]
  },
  {
   "cell_type": "markdown",
   "id": "68e740dd",
   "metadata": {},
   "source": [
    "The second game to be studied is the sport of basketball. In particular, we focus on the team playing offense. A simple formulation of this game is to think of the offense having three (3) choices in shooting the ball: \n",
    "- shooting from beyong the 3PT line (worth 3 pts, least likely to go in)\n",
    "- shooting a midrange shot (worth 2 pts, more likely than 3PT shot)\n",
    "- shooting from under the basket (worth 2 pts, more likely than midrange)\n",
    "\n",
    "The sport is undoubtedly a lot more complex than how it is set up here, but for now we assume simplicity. We also make some assumptions based on rules and modern-day data:\n",
    "- NBA average percentages for 3PT, midrange, and UB: 36.2%, 45.15%, and 59.15%\n",
    "- A team gets to shoot 60 shots in an NBA game"
   ]
  },
  {
   "cell_type": "markdown",
   "id": "d0945049",
   "metadata": {},
   "source": [
    "1) What is this payoff matrix for this game? "
   ]
  },
  {
   "cell_type": "code",
   "execution_count": 5,
   "id": "7161cef5",
   "metadata": {},
   "outputs": [
    {
     "data": {
      "text/plain": [
       "array([[3, 0, 0],\n",
       "       [0, 2, 0],\n",
       "       [0, 0, 2]])"
      ]
     },
     "execution_count": 5,
     "metadata": {},
     "output_type": "execute_result"
    }
   ],
   "source": [
    "BasketballOffense().payoff_matrix"
   ]
  },
  {
   "cell_type": "markdown",
   "id": "27dfdc7f",
   "metadata": {},
   "source": [
    "2) What is the expected payoff for this game, assuming that the offense is equally likely to shoot all three kinds of shots? The expected payoff can be interpreted as the average number of points made in a normal NBA game, given the distribution of shots."
   ]
  },
  {
   "cell_type": "code",
   "execution_count": 6,
   "id": "ee4fd0df",
   "metadata": {},
   "outputs": [
    {
     "data": {
      "text/plain": [
       "55.54"
      ]
     },
     "execution_count": 6,
     "metadata": {},
     "output_type": "execute_result"
    }
   ],
   "source": [
    "BasketballOffense().calculate_expected_payoff()"
   ]
  },
  {
   "cell_type": "markdown",
   "id": "122d49ef",
   "metadata": {},
   "source": [
    "3) The offensive trend in modern-day NBA today is to chuck up as much 3PT shots as possible, with the other two shots being chosen less. Is this strategy better than the one presented in #2? Assume that you have 60 shots to work with."
   ]
  },
  {
   "cell_type": "code",
   "execution_count": 7,
   "id": "be0b1e38",
   "metadata": {},
   "outputs": [
    {
     "data": {
      "text/plain": [
       "60.35"
      ]
     },
     "execution_count": 7,
     "metadata": {},
     "output_type": "execute_result"
    }
   ],
   "source": [
    "BasketballOffense([40, 10, 10]).calculate_expected_payoff()"
   ]
  },
  {
   "cell_type": "markdown",
   "id": "30624486",
   "metadata": {},
   "source": [
    "4) What is the expected payoff for making ONLY 3PT shots in a game? Is this better than the strategies presented in #2 and #3?"
   ]
  },
  {
   "cell_type": "code",
   "execution_count": 8,
   "id": "9a636e45",
   "metadata": {},
   "outputs": [
    {
     "data": {
      "text/plain": [
       "65.16"
      ]
     },
     "execution_count": 8,
     "metadata": {},
     "output_type": "execute_result"
    }
   ],
   "source": [
    "BasketballOffense([60, 0, 0]).calculate_expected_payoff()"
   ]
  },
  {
   "cell_type": "markdown",
   "id": "d5ba20a2",
   "metadata": {},
   "source": [
    "5) What is the optimal strategy (in terms of shot distribution between 3PT-MR-UB) based on league-wide average shot percentages?"
   ]
  },
  {
   "cell_type": "code",
   "execution_count": 9,
   "id": "27e90b8f",
   "metadata": {},
   "outputs": [
    {
     "data": {
      "text/plain": [
       "(60, 0, 0)"
      ]
     },
     "execution_count": 9,
     "metadata": {},
     "output_type": "execute_result"
    }
   ],
   "source": [
    "BasketballOffense().optimal_strategy()"
   ]
  },
  {
   "cell_type": "markdown",
   "id": "5d109ad8",
   "metadata": {},
   "source": [
    "6) For a team that has a strong frontcourt, UB percentages may significantly increase. In the 2021-2022 season, Rudy Gobert recorded a UB% of around 72.1%. With this modification of team data, would the optimal strategy in terms of shot distribution change?"
   ]
  },
  {
   "cell_type": "code",
   "execution_count": 10,
   "id": "a7641b8a",
   "metadata": {},
   "outputs": [
    {
     "data": {
      "text/plain": [
       "(0, 0, 60)"
      ]
     },
     "execution_count": 10,
     "metadata": {},
     "output_type": "execute_result"
    }
   ],
   "source": [
    "BasketballOffense(y=[0.362, 0.4515, 0.721]).optimal_strategy()"
   ]
  },
  {
   "cell_type": "markdown",
   "id": "99196dfa",
   "metadata": {},
   "source": [
    "## Game 3: NBA Sports Betting"
   ]
  },
  {
   "attachments": {},
   "cell_type": "markdown",
   "id": "7725b692",
   "metadata": {},
   "source": [
    "We now move on from studying the offense of a basketball game, to betting on an actual basketball game. For this part, we use the NBA as a reference for all data/information used. To keep things simple, we wish to make bets on the 4 remaining teams in the NBA playoffs given a set amount of budget (at least \\\\$100, multiples of \\\\$100). The odds for the 4 teams are available online, so we shall use these as data for our calculations. NBA odds are interpreted as follows:\n",
    "- Odds are based off of bets of \\\\$100\n",
    "- An odds value of -200 means that you must bet \\\\$200 to gain \\\\$100\n",
    "- An odds value of +200 means that you stand to gain \\\\$200 + \\\\$100 (original bet) = \\\\$300 if the team you bet on wins\n",
    "\n",
    "For this study, the top 4 teams as of today to be used are: the Celtics, Bucks, Nets, and Nuggets. The odds for these teams, respectively, are: 400, 550, 800, 900. \n",
    "\n",
    "The likelihoods of each team winning (as well as none of them winning) have already been naively calculated based on current games won. A more informed analyst would incorporate other factors in calculating these probabilities, such as injury reports and playoff experience. However, to keep things simple, we will work with a simple calculation."
   ]
  },
  {
   "cell_type": "markdown",
   "id": "6c691cb3",
   "metadata": {},
   "source": [
    "1) What is this payoff matrix for this game? "
   ]
  },
  {
   "cell_type": "code",
   "execution_count": 11,
   "id": "681169fa",
   "metadata": {},
   "outputs": [
    {
     "data": {
      "text/plain": [
       "array([[ 400., -100., -100., -100., -100.],\n",
       "       [-100.,  550., -100., -100., -100.],\n",
       "       [-100., -100.,  800., -100., -100.],\n",
       "       [-100., -100., -100.,  900., -100.]])"
      ]
     },
     "execution_count": 11,
     "metadata": {},
     "output_type": "execute_result"
    }
   ],
   "source": [
    "NBASportsBetting().payoff_matrix"
   ]
  },
  {
   "cell_type": "markdown",
   "id": "bad95335",
   "metadata": {},
   "source": [
    "2) Suppose you have a budget of \\\\$400 to bet on a team(s). What is the expected payoff for this game, with your strategy being all in for the favorites of this season?"
   ]
  },
  {
   "cell_type": "code",
   "execution_count": 12,
   "id": "3033b2c5",
   "metadata": {},
   "outputs": [
    {
     "data": {
      "text/plain": [
       "99.99999999999997"
      ]
     },
     "execution_count": 12,
     "metadata": {},
     "output_type": "execute_result"
    }
   ],
   "source": [
    "NBASportsBetting(strategy=[400, 0, 0, 0]).calculate_expected_payoff()"
   ]
  },
  {
   "cell_type": "markdown",
   "id": "6b5c7ca7",
   "metadata": {},
   "source": [
    "3) With the same budget, what is the expected payoff for this game given that you equally allot your budget for all 4 teams?"
   ]
  },
  {
   "cell_type": "code",
   "execution_count": 13,
   "id": "18f12e89",
   "metadata": {},
   "outputs": [
    {
     "data": {
      "text/plain": [
       "326.8382352941177"
      ]
     },
     "execution_count": 13,
     "metadata": {},
     "output_type": "execute_result"
    }
   ],
   "source": [
    "NBASportsBetting(strategy=[100, 100, 100, 100]).calculate_expected_payoff()"
   ]
  },
  {
   "cell_type": "markdown",
   "id": "4f81a452",
   "metadata": {},
   "source": [
    "4) What is the optimal strategy in terms of betting allocation?"
   ]
  },
  {
   "cell_type": "code",
   "execution_count": 14,
   "id": "60295d2d",
   "metadata": {},
   "outputs": [
    {
     "data": {
      "text/plain": [
       "(0, 0, 0, 400)"
      ]
     },
     "execution_count": 14,
     "metadata": {},
     "output_type": "execute_result"
    }
   ],
   "source": [
    "NBASportsBetting(money=400).optimal_strategy()"
   ]
  },
  {
   "cell_type": "markdown",
   "id": "2f0e69e5",
   "metadata": {},
   "source": [
    "##### Important note: the calculated expected payoffs are NOT the amount of winnings you are guaranteed to win everytime you bet with that specific strategy. Instead, it is the average amount of winnings you are expected to win over a course of a lot of seasons, given that your strategy, the odds, and probabilities of teams winning all stay the same. Of course, these are variables that constantly evolve over time, so a deeper analysis must be sought out."
   ]
  }
 ],
 "metadata": {
  "kernelspec": {
   "display_name": "Python 3",
   "language": "python",
   "name": "python3"
  },
  "language_info": {
   "codemirror_mode": {
    "name": "ipython",
    "version": 3
   },
   "file_extension": ".py",
   "mimetype": "text/x-python",
   "name": "python",
   "nbconvert_exporter": "python",
   "pygments_lexer": "ipython3",
   "version": "3.10.3 (tags/v3.10.3:a342a49, Mar 16 2022, 13:07:40) [MSC v.1929 64 bit (AMD64)]"
  },
  "vscode": {
   "interpreter": {
    "hash": "8311d61c09872a2a00573b90f54abaa951527c38a2ec330b74c0affb01d60773"
   }
  }
 },
 "nbformat": 4,
 "nbformat_minor": 5
}
