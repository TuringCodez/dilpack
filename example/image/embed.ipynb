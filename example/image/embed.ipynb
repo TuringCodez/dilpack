{
 "cells": [
  {
   "attachments": {},
   "cell_type": "markdown",
   "metadata": {},
   "source": [
    "Steganography Algorithm in Digital Images with QR Factorization\n",
    "---------------------------------------------------------------"
   ]
  },
  {
   "cell_type": "code",
   "execution_count": 133,
   "metadata": {},
   "outputs": [],
   "source": [
    "\n",
    "from dilpack.image.embed import embed, extract\n",
    "import numpy as np\n",
    "from numpy import asarray\n",
    "from PIL import Image\n",
    "import os"
   ]
  },
  {
   "cell_type": "code",
   "execution_count": 134,
   "metadata": {},
   "outputs": [],
   "source": [
    "image_1 = Image.open(os.path.join('cover_images','dog.jpg'))\n",
    "image_2 = Image.open(os.path.join('secret_images','mona.jpg'))\n",
    "stego_image_path = os.path.join('stego_images', 'dog_stego.png')\n",
    "decoded_image_path = os.path.join('decode', 'mona_image.png')"
   ]
  },
  {
   "cell_type": "code",
   "execution_count": 135,
   "metadata": {},
   "outputs": [],
   "source": [
    "alpha = 0.05\n",
    "data, Qs, Rc, si = embed(image_1, image_2, alpha=alpha)\n",
    "      \n",
    "# saving the final output \n",
    "# as a PNG file\n",
    "data.save(stego_image_path)\n"
   ]
  },
  {
   "attachments": {},
   "cell_type": "markdown",
   "metadata": {},
   "source": [
    "Test extract an image"
   ]
  },
  {
   "cell_type": "code",
   "execution_count": 136,
   "metadata": {},
   "outputs": [],
   "source": [
    "\n",
    "image_1 = Image.open(stego_image_path)\n",
    "embedded_image = extract(image_1, Qs, Rc, alpha=alpha)\n",
    "embedded_image.save(decoded_image_path)"
   ]
  }
 ],
 "metadata": {
  "kernelspec": {
   "display_name": "base",
   "language": "python",
   "name": "python3"
  },
  "language_info": {
   "codemirror_mode": {
    "name": "ipython",
    "version": 3
   },
   "file_extension": ".py",
   "mimetype": "text/x-python",
   "name": "python",
   "nbconvert_exporter": "python",
   "pygments_lexer": "ipython3",
   "version": "3.9.10"
  },
  "orig_nbformat": 4,
  "vscode": {
   "interpreter": {
    "hash": "b2eaf81b38e7365e67bc900d18c2f74bf4ae8018e04c282c650008198a855644"
   }
  }
 },
 "nbformat": 4,
 "nbformat_minor": 2
}
